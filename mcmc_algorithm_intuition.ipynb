{
 "cells": [
  {
   "cell_type": "markdown",
   "metadata": {},
   "source": [
    "## Tutorial on the Intuition of MCMC algorithm (Metropolis-Hastings)\n",
    "\n",
    "From [Thomas Wiecki blog](https://twiecki.github.io/blog/2015/11/10/mcmc-sampling/) on \"MCMC sampling for dummies\""
   ]
  },
  {
   "cell_type": "code",
   "execution_count": 9,
   "metadata": {},
   "outputs": [
    {
     "name": "stdout",
     "output_type": "stream",
     "text": [
      "[-1.0856306   0.99734545  0.2829785  -1.50629471 -0.57860025  1.65143654\n",
      " -2.42667924 -0.42891263  1.26593626 -0.8667404  -0.67888615 -0.09470897\n",
      "  1.49138963 -0.638902   -0.44398196 -0.43435128  2.20593008  2.18678609\n",
      "  1.0040539   0.3861864 ]\n"
     ]
    }
   ],
   "source": [
    "import numpy as np\n",
    "import scipy as sp\n",
    "from scipy.stats import norm\n",
    "np.random.seed(123)\n",
    "data = np.random.randn(20)\n",
    "print(data)"
   ]
  },
  {
   "cell_type": "code",
   "execution_count": 31,
   "metadata": {},
   "outputs": [],
   "source": [
    "mu_prior_mu = 0.\n",
    "mu_prior_sd = 1."
   ]
  },
  {
   "cell_type": "code",
   "execution_count": 23,
   "metadata": {},
   "outputs": [
    {
     "name": "stdout",
     "output_type": "stream",
     "text": [
      "1.0\n"
     ]
    }
   ],
   "source": [
    "\n",
    "mu_current = 1.\n",
    "proposal_width = 1.5\n",
    "print(mu_current)"
   ]
  },
  {
   "cell_type": "code",
   "execution_count": 22,
   "metadata": {},
   "outputs": [
    {
     "name": "stdout",
     "output_type": "stream",
     "text": [
      "-0.2926323437895282\n"
     ]
    }
   ],
   "source": [
    "proposal = norm(mu_current, proposal_width).rvs()\n",
    "print(proposal)"
   ]
  },
  {
   "cell_type": "code",
   "execution_count": 36,
   "metadata": {},
   "outputs": [
    {
     "name": "stdout",
     "output_type": "stream",
     "text": [
      "1.2262032783415876e-18\n",
      "5.956090664260487e-16\n"
     ]
    }
   ],
   "source": [
    "# likelihood is a joint probability of all data points. So multiply each datum's individual probabilities.\n",
    "likelihood_current = norm(mu_current, 1).pdf(data).prod()\n",
    "likelihood_proposal = norm(proposal, 1).pdf(data).prod()\n",
    "\n",
    "print(likelihood_current)\n",
    "print(likelihood_proposal)"
   ]
  },
  {
   "cell_type": "code",
   "execution_count": 37,
   "metadata": {},
   "outputs": [
    {
     "name": "stdout",
     "output_type": "stream",
     "text": [
      "0.24197072451914337\n",
      "0.38222135397881396\n"
     ]
    }
   ],
   "source": [
    "# Compute prior probability of current and proposed mu        \n",
    "prior_current = norm(mu_prior_mu, mu_prior_sd).pdf(mu_current)\n",
    "prior_proposal = norm(mu_prior_mu, mu_prior_sd).pdf(proposal)\n",
    "\n",
    "print(prior_current)\n",
    "print(prior_proposal)"
   ]
  },
  {
   "cell_type": "code",
   "execution_count": 38,
   "metadata": {},
   "outputs": [
    {
     "name": "stdout",
     "output_type": "stream",
     "text": [
      "2.9670529566806277e-19\n",
      "2.276545038114217e-16\n"
     ]
    }
   ],
   "source": [
    "# Numerator Calculation of Bayes formula\n",
    "p_current = likelihood_current * prior_current\n",
    "p_proposal = likelihood_proposal * prior_proposal\n",
    "\n",
    "print(p_current)\n",
    "print(p_proposal)"
   ]
  },
  {
   "cell_type": "markdown",
   "metadata": {},
   "source": [
    "The acceptance of the proposed move is based on whether p_proposal > p_current? If so, the ratio > 1.0, and we accept the proposal. If not, then we only accept the proposal probabilistically. This simple procedure gives us samples from the posterior."
   ]
  },
  {
   "cell_type": "code",
   "execution_count": 41,
   "metadata": {},
   "outputs": [
    {
     "name": "stdout",
     "output_type": "stream",
     "text": [
      "767.2748250038272\n"
     ]
    }
   ],
   "source": [
    "p_accept = p_proposal / p_current\n",
    "print(p_accept)"
   ]
  },
  {
   "cell_type": "code",
   "execution_count": null,
   "metadata": {},
   "outputs": [],
   "source": []
  }
 ],
 "metadata": {
  "kernelspec": {
   "display_name": "Python 3",
   "language": "python",
   "name": "python3"
  },
  "language_info": {
   "codemirror_mode": {
    "name": "ipython",
    "version": 3
   },
   "file_extension": ".py",
   "mimetype": "text/x-python",
   "name": "python",
   "nbconvert_exporter": "python",
   "pygments_lexer": "ipython3",
   "version": "3.6.5"
  }
 },
 "nbformat": 4,
 "nbformat_minor": 2
}
