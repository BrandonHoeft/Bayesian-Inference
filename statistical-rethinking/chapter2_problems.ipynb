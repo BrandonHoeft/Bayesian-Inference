{
 "cells": [
  {
   "cell_type": "markdown",
   "metadata": {},
   "source": [
    "# Chapter 2 Problems: Small Worlds and Large Worlds"
   ]
  },
  {
   "cell_type": "code",
   "execution_count": 30,
   "metadata": {},
   "outputs": [],
   "source": [
    "# https://stackoverflow.com/questions/43027980/purpose-of-matplotlib-inline/43028034\n",
    "%matplotlib inline\n",
    "import numpy as np\n",
    "import scipy.stats as stats"
   ]
  },
  {
   "cell_type": "markdown",
   "metadata": {},
   "source": [
    "## 2M1\n",
    "\n",
    "Recall the globe tossing problem (W = water, L = land) in trying to estimate the proportion of water that covers the globe. Compare and plot the **grid approximation** approach to the posterior distribution for each of the following sets of observations. Assume a uniform prior distribution for each set. plausibilities"
   ]
  },
  {
   "cell_type": "code",
   "execution_count": 29,
   "metadata": {},
   "outputs": [],
   "source": [
    "prior = np.array([1] * 100)\n",
    "plausibilities = np.linspace(0, 1, 100)\n",
    "# Set 1: W, W, W\n",
    "prior\n",
    "\n",
    "def binomial_posterior(successes=3, n_trials=3, grid_length=100):\n",
    "    \"\"\"Estimate the posterior distribution of set of \n",
    "    observations that can be modeled from a binomial distribution, \n",
    "    using grid approximation technique. Assumes uniform prior.\"\"\"\n",
    "    \n",
    "    # define 1 dimensional grid\n",
    "    p_grid = np.linspace(0, 1, grid_length)\n",
    "    # define uniform prior\n",
    "    prior = np.array([1] * grid_length)\n",
    "    # calculate the likelihood with density function. \n",
    "    stats.binom.pmf(successes, n_trials, p_grid)\n",
    "    "
   ]
  },
  {
   "cell_type": "markdown",
   "metadata": {},
   "source": []
  },
  {
   "cell_type": "code",
   "execution_count": null,
   "metadata": {},
   "outputs": [],
   "source": []
  },
  {
   "cell_type": "code",
   "execution_count": null,
   "metadata": {},
   "outputs": [],
   "source": []
  }
 ],
 "metadata": {
  "kernelspec": {
   "display_name": "Python 3",
   "language": "python",
   "name": "python3"
  },
  "language_info": {
   "codemirror_mode": {
    "name": "ipython",
    "version": 3
   },
   "file_extension": ".py",
   "mimetype": "text/x-python",
   "name": "python",
   "nbconvert_exporter": "python",
   "pygments_lexer": "ipython3",
   "version": "3.6.5"
  }
 },
 "nbformat": 4,
 "nbformat_minor": 2
}
